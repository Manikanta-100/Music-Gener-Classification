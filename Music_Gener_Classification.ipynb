{
  "cells": [
    {
      "cell_type": "code",
      "execution_count": null,
      "metadata": {
        "id": "oySsmDI8AkxU"
      },
      "outputs": [],
      "source": [
        "def getmetadata(filename):\n",
        "    import librosa\n",
        "    import numpy as np\n",
        "\n",
        "    y, sr = librosa.load(filename, sr=None)\n",
        "\n",
        "    #fetching tempo\n",
        "    onset_env = librosa.onset.onset_strength(y=y, sr=sr)\n",
        "\n",
        "    # Extract features using librosa\n",
        "    tempo, beats = librosa.beat.beat_track(y=y, sr=sr)\n",
        "    chroma_stft = librosa.feature.chroma_stft(y=y, sr=sr)\n",
        "    rmse = librosa.feature.rms(y=y)\n",
        "    spec_cent = librosa.feature.spectral_centroid(y=y, sr=sr)\n",
        "    spec_bw = librosa.feature.spectral_bandwidth(y=y, sr=sr)\n",
        "    rolloff = librosa.feature.spectral_rolloff(y=y, sr=sr)\n",
        "    zcr = librosa.feature.zero_crossing_rate(y)\n",
        "    mfcc = librosa.feature.mfcc(y=y, sr=sr)\n",
        "\n",
        "    metadata_dict = {'tempo':tempo,'chroma_stft':np.mean(chroma_stft),'rmse':np.mean(rmse), 'spectral_centroid':np.mean(spec_cent),'spectral_bandwidth':np.mean(spec_bw), 'rolloff':np.mean(rolloff), 'zero_crossing_rates':np.mean(zcr)}\n",
        "\n",
        "    for i in range(1,21):\n",
        "      metadata_dict.update({'mfcc'+str(i):np.mean(mfcc[i-1])})\n",
        "\n",
        "    return list(metadata_dict.values())"
      ]
    },
    {
      "cell_type": "code",
      "execution_count": null,
      "metadata": {
        "id": "6p2vyt8G8E7q"
      },
      "outputs": [],
      "source": [
        "import pandas as pd\n",
        "import numpy as np\n",
        "import warnings\n",
        "\n",
        "# Ignore all warnings\n",
        "warnings.filterwarnings(\"ignore\")"
      ]
    },
    {
      "cell_type": "code",
      "execution_count": null,
      "metadata": {
        "colab": {
          "base_uri": "https://localhost:8080/",
          "height": 255
        },
        "id": "CEBKW2yEDK-S",
        "outputId": "0fc4017c-14a7-470e-a4c2-7fd12554f440"
      },
      "outputs": [
        {
          "data": {
            "application/vnd.google.colaboratory.intrinsic+json": {
              "type": "dataframe",
              "variable_name": "df"
            },
            "text/html": [
              "\n",
              "  <div id=\"df-199f1aa3-2654-4115-b259-ed0db6e99ebe\" class=\"colab-df-container\">\n",
              "    <div>\n",
              "<style scoped>\n",
              "    .dataframe tbody tr th:only-of-type {\n",
              "        vertical-align: middle;\n",
              "    }\n",
              "\n",
              "    .dataframe tbody tr th {\n",
              "        vertical-align: top;\n",
              "    }\n",
              "\n",
              "    .dataframe thead th {\n",
              "        text-align: right;\n",
              "    }\n",
              "</style>\n",
              "<table border=\"1\" class=\"dataframe\">\n",
              "  <thead>\n",
              "    <tr style=\"text-align: right;\">\n",
              "      <th></th>\n",
              "      <th>class_name</th>\n",
              "      <th>tempo</th>\n",
              "      <th>chroma_stft</th>\n",
              "      <th>rmse</th>\n",
              "      <th>spectral_centroid</th>\n",
              "      <th>spectral_bandwidth</th>\n",
              "      <th>rolloff</th>\n",
              "      <th>zero_crossing_rate</th>\n",
              "      <th>mfcc1</th>\n",
              "      <th>mfcc2</th>\n",
              "      <th>...</th>\n",
              "      <th>mfcc12</th>\n",
              "      <th>mfcc13</th>\n",
              "      <th>mfcc14</th>\n",
              "      <th>mfcc15</th>\n",
              "      <th>mfcc16</th>\n",
              "      <th>mfcc17</th>\n",
              "      <th>mfcc18</th>\n",
              "      <th>mfcc19</th>\n",
              "      <th>mfcc20</th>\n",
              "      <th>label</th>\n",
              "    </tr>\n",
              "  </thead>\n",
              "  <tbody>\n",
              "    <tr>\n",
              "      <th>0</th>\n",
              "      <td>blues</td>\n",
              "      <td>103.359375</td>\n",
              "      <td>0.380260</td>\n",
              "      <td>0.248262</td>\n",
              "      <td>2116.942959</td>\n",
              "      <td>1956.611056</td>\n",
              "      <td>4196.107960</td>\n",
              "      <td>0.127272</td>\n",
              "      <td>-26.929785</td>\n",
              "      <td>107.334008</td>\n",
              "      <td>...</td>\n",
              "      <td>14.336612</td>\n",
              "      <td>-13.821769</td>\n",
              "      <td>7.562789</td>\n",
              "      <td>-6.181372</td>\n",
              "      <td>0.330165</td>\n",
              "      <td>-6.829571</td>\n",
              "      <td>0.965922</td>\n",
              "      <td>-7.570825</td>\n",
              "      <td>2.918987</td>\n",
              "      <td>blues</td>\n",
              "    </tr>\n",
              "    <tr>\n",
              "      <th>1</th>\n",
              "      <td>blues</td>\n",
              "      <td>95.703125</td>\n",
              "      <td>0.306451</td>\n",
              "      <td>0.113475</td>\n",
              "      <td>1156.070496</td>\n",
              "      <td>1497.668176</td>\n",
              "      <td>2170.053545</td>\n",
              "      <td>0.058613</td>\n",
              "      <td>-233.860772</td>\n",
              "      <td>136.170239</td>\n",
              "      <td>...</td>\n",
              "      <td>-2.250578</td>\n",
              "      <td>3.959198</td>\n",
              "      <td>5.322555</td>\n",
              "      <td>0.812028</td>\n",
              "      <td>-1.107202</td>\n",
              "      <td>-4.556555</td>\n",
              "      <td>-2.436490</td>\n",
              "      <td>3.316913</td>\n",
              "      <td>-0.608485</td>\n",
              "      <td>blues</td>\n",
              "    </tr>\n",
              "    <tr>\n",
              "      <th>2</th>\n",
              "      <td>blues</td>\n",
              "      <td>151.999081</td>\n",
              "      <td>0.253487</td>\n",
              "      <td>0.151571</td>\n",
              "      <td>1331.073970</td>\n",
              "      <td>1973.643437</td>\n",
              "      <td>2900.174130</td>\n",
              "      <td>0.042967</td>\n",
              "      <td>-221.802549</td>\n",
              "      <td>110.843070</td>\n",
              "      <td>...</td>\n",
              "      <td>-13.037723</td>\n",
              "      <td>-12.652228</td>\n",
              "      <td>-1.821905</td>\n",
              "      <td>-7.260097</td>\n",
              "      <td>-6.660252</td>\n",
              "      <td>-14.682694</td>\n",
              "      <td>-11.719264</td>\n",
              "      <td>-11.025216</td>\n",
              "      <td>-13.387260</td>\n",
              "      <td>blues</td>\n",
              "    </tr>\n",
              "    <tr>\n",
              "      <th>3</th>\n",
              "      <td>blues</td>\n",
              "      <td>184.570312</td>\n",
              "      <td>0.269320</td>\n",
              "      <td>0.119072</td>\n",
              "      <td>1361.045467</td>\n",
              "      <td>1567.804596</td>\n",
              "      <td>2739.625101</td>\n",
              "      <td>0.069124</td>\n",
              "      <td>-207.208080</td>\n",
              "      <td>132.799175</td>\n",
              "      <td>...</td>\n",
              "      <td>-0.613248</td>\n",
              "      <td>0.384877</td>\n",
              "      <td>2.605128</td>\n",
              "      <td>-5.188924</td>\n",
              "      <td>-9.527455</td>\n",
              "      <td>-9.244394</td>\n",
              "      <td>-2.848274</td>\n",
              "      <td>-1.418707</td>\n",
              "      <td>-5.932607</td>\n",
              "      <td>blues</td>\n",
              "    </tr>\n",
              "    <tr>\n",
              "      <th>4</th>\n",
              "      <td>blues</td>\n",
              "      <td>161.499023</td>\n",
              "      <td>0.391059</td>\n",
              "      <td>0.137728</td>\n",
              "      <td>1811.076084</td>\n",
              "      <td>2052.332563</td>\n",
              "      <td>3927.809582</td>\n",
              "      <td>0.075480</td>\n",
              "      <td>-145.434568</td>\n",
              "      <td>102.829023</td>\n",
              "      <td>...</td>\n",
              "      <td>7.457218</td>\n",
              "      <td>-10.470444</td>\n",
              "      <td>-2.360483</td>\n",
              "      <td>-6.783624</td>\n",
              "      <td>2.671134</td>\n",
              "      <td>-4.760879</td>\n",
              "      <td>-0.949005</td>\n",
              "      <td>0.024832</td>\n",
              "      <td>-2.005315</td>\n",
              "      <td>blues</td>\n",
              "    </tr>\n",
              "  </tbody>\n",
              "</table>\n",
              "<p>5 rows × 29 columns</p>\n",
              "</div>\n",
              "    <div class=\"colab-df-buttons\">\n",
              "\n",
              "  <div class=\"colab-df-container\">\n",
              "    <button class=\"colab-df-convert\" onclick=\"convertToInteractive('df-199f1aa3-2654-4115-b259-ed0db6e99ebe')\"\n",
              "            title=\"Convert this dataframe to an interactive table.\"\n",
              "            style=\"display:none;\">\n",
              "\n",
              "  <svg xmlns=\"http://www.w3.org/2000/svg\" height=\"24px\" viewBox=\"0 -960 960 960\">\n",
              "    <path d=\"M120-120v-720h720v720H120Zm60-500h600v-160H180v160Zm220 220h160v-160H400v160Zm0 220h160v-160H400v160ZM180-400h160v-160H180v160Zm440 0h160v-160H620v160ZM180-180h160v-160H180v160Zm440 0h160v-160H620v160Z\"/>\n",
              "  </svg>\n",
              "    </button>\n",
              "\n",
              "  <style>\n",
              "    .colab-df-container {\n",
              "      display:flex;\n",
              "      gap: 12px;\n",
              "    }\n",
              "\n",
              "    .colab-df-convert {\n",
              "      background-color: #E8F0FE;\n",
              "      border: none;\n",
              "      border-radius: 50%;\n",
              "      cursor: pointer;\n",
              "      display: none;\n",
              "      fill: #1967D2;\n",
              "      height: 32px;\n",
              "      padding: 0 0 0 0;\n",
              "      width: 32px;\n",
              "    }\n",
              "\n",
              "    .colab-df-convert:hover {\n",
              "      background-color: #E2EBFA;\n",
              "      box-shadow: 0px 1px 2px rgba(60, 64, 67, 0.3), 0px 1px 3px 1px rgba(60, 64, 67, 0.15);\n",
              "      fill: #174EA6;\n",
              "    }\n",
              "\n",
              "    .colab-df-buttons div {\n",
              "      margin-bottom: 4px;\n",
              "    }\n",
              "\n",
              "    [theme=dark] .colab-df-convert {\n",
              "      background-color: #3B4455;\n",
              "      fill: #D2E3FC;\n",
              "    }\n",
              "\n",
              "    [theme=dark] .colab-df-convert:hover {\n",
              "      background-color: #434B5C;\n",
              "      box-shadow: 0px 1px 3px 1px rgba(0, 0, 0, 0.15);\n",
              "      filter: drop-shadow(0px 1px 2px rgba(0, 0, 0, 0.3));\n",
              "      fill: #FFFFFF;\n",
              "    }\n",
              "  </style>\n",
              "\n",
              "    <script>\n",
              "      const buttonEl =\n",
              "        document.querySelector('#df-199f1aa3-2654-4115-b259-ed0db6e99ebe button.colab-df-convert');\n",
              "      buttonEl.style.display =\n",
              "        google.colab.kernel.accessAllowed ? 'block' : 'none';\n",
              "\n",
              "      async function convertToInteractive(key) {\n",
              "        const element = document.querySelector('#df-199f1aa3-2654-4115-b259-ed0db6e99ebe');\n",
              "        const dataTable =\n",
              "          await google.colab.kernel.invokeFunction('convertToInteractive',\n",
              "                                                    [key], {});\n",
              "        if (!dataTable) return;\n",
              "\n",
              "        const docLinkHtml = 'Like what you see? Visit the ' +\n",
              "          '<a target=\"_blank\" href=https://colab.research.google.com/notebooks/data_table.ipynb>data table notebook</a>'\n",
              "          + ' to learn more about interactive tables.';\n",
              "        element.innerHTML = '';\n",
              "        dataTable['output_type'] = 'display_data';\n",
              "        await google.colab.output.renderOutput(dataTable, element);\n",
              "        const docLink = document.createElement('div');\n",
              "        docLink.innerHTML = docLinkHtml;\n",
              "        element.appendChild(docLink);\n",
              "      }\n",
              "    </script>\n",
              "  </div>\n",
              "\n",
              "\n",
              "<div id=\"df-8b8d26c5-25ab-4178-bd76-441cdc4b3750\">\n",
              "  <button class=\"colab-df-quickchart\" onclick=\"quickchart('df-8b8d26c5-25ab-4178-bd76-441cdc4b3750')\"\n",
              "            title=\"Suggest charts\"\n",
              "            style=\"display:none;\">\n",
              "\n",
              "<svg xmlns=\"http://www.w3.org/2000/svg\" height=\"24px\"viewBox=\"0 0 24 24\"\n",
              "     width=\"24px\">\n",
              "    <g>\n",
              "        <path d=\"M19 3H5c-1.1 0-2 .9-2 2v14c0 1.1.9 2 2 2h14c1.1 0 2-.9 2-2V5c0-1.1-.9-2-2-2zM9 17H7v-7h2v7zm4 0h-2V7h2v10zm4 0h-2v-4h2v4z\"/>\n",
              "    </g>\n",
              "</svg>\n",
              "  </button>\n",
              "\n",
              "<style>\n",
              "  .colab-df-quickchart {\n",
              "      --bg-color: #E8F0FE;\n",
              "      --fill-color: #1967D2;\n",
              "      --hover-bg-color: #E2EBFA;\n",
              "      --hover-fill-color: #174EA6;\n",
              "      --disabled-fill-color: #AAA;\n",
              "      --disabled-bg-color: #DDD;\n",
              "  }\n",
              "\n",
              "  [theme=dark] .colab-df-quickchart {\n",
              "      --bg-color: #3B4455;\n",
              "      --fill-color: #D2E3FC;\n",
              "      --hover-bg-color: #434B5C;\n",
              "      --hover-fill-color: #FFFFFF;\n",
              "      --disabled-bg-color: #3B4455;\n",
              "      --disabled-fill-color: #666;\n",
              "  }\n",
              "\n",
              "  .colab-df-quickchart {\n",
              "    background-color: var(--bg-color);\n",
              "    border: none;\n",
              "    border-radius: 50%;\n",
              "    cursor: pointer;\n",
              "    display: none;\n",
              "    fill: var(--fill-color);\n",
              "    height: 32px;\n",
              "    padding: 0;\n",
              "    width: 32px;\n",
              "  }\n",
              "\n",
              "  .colab-df-quickchart:hover {\n",
              "    background-color: var(--hover-bg-color);\n",
              "    box-shadow: 0 1px 2px rgba(60, 64, 67, 0.3), 0 1px 3px 1px rgba(60, 64, 67, 0.15);\n",
              "    fill: var(--button-hover-fill-color);\n",
              "  }\n",
              "\n",
              "  .colab-df-quickchart-complete:disabled,\n",
              "  .colab-df-quickchart-complete:disabled:hover {\n",
              "    background-color: var(--disabled-bg-color);\n",
              "    fill: var(--disabled-fill-color);\n",
              "    box-shadow: none;\n",
              "  }\n",
              "\n",
              "  .colab-df-spinner {\n",
              "    border: 2px solid var(--fill-color);\n",
              "    border-color: transparent;\n",
              "    border-bottom-color: var(--fill-color);\n",
              "    animation:\n",
              "      spin 1s steps(1) infinite;\n",
              "  }\n",
              "\n",
              "  @keyframes spin {\n",
              "    0% {\n",
              "      border-color: transparent;\n",
              "      border-bottom-color: var(--fill-color);\n",
              "      border-left-color: var(--fill-color);\n",
              "    }\n",
              "    20% {\n",
              "      border-color: transparent;\n",
              "      border-left-color: var(--fill-color);\n",
              "      border-top-color: var(--fill-color);\n",
              "    }\n",
              "    30% {\n",
              "      border-color: transparent;\n",
              "      border-left-color: var(--fill-color);\n",
              "      border-top-color: var(--fill-color);\n",
              "      border-right-color: var(--fill-color);\n",
              "    }\n",
              "    40% {\n",
              "      border-color: transparent;\n",
              "      border-right-color: var(--fill-color);\n",
              "      border-top-color: var(--fill-color);\n",
              "    }\n",
              "    60% {\n",
              "      border-color: transparent;\n",
              "      border-right-color: var(--fill-color);\n",
              "    }\n",
              "    80% {\n",
              "      border-color: transparent;\n",
              "      border-right-color: var(--fill-color);\n",
              "      border-bottom-color: var(--fill-color);\n",
              "    }\n",
              "    90% {\n",
              "      border-color: transparent;\n",
              "      border-bottom-color: var(--fill-color);\n",
              "    }\n",
              "  }\n",
              "</style>\n",
              "\n",
              "  <script>\n",
              "    async function quickchart(key) {\n",
              "      const quickchartButtonEl =\n",
              "        document.querySelector('#' + key + ' button');\n",
              "      quickchartButtonEl.disabled = true;  // To prevent multiple clicks.\n",
              "      quickchartButtonEl.classList.add('colab-df-spinner');\n",
              "      try {\n",
              "        const charts = await google.colab.kernel.invokeFunction(\n",
              "            'suggestCharts', [key], {});\n",
              "      } catch (error) {\n",
              "        console.error('Error during call to suggestCharts:', error);\n",
              "      }\n",
              "      quickchartButtonEl.classList.remove('colab-df-spinner');\n",
              "      quickchartButtonEl.classList.add('colab-df-quickchart-complete');\n",
              "    }\n",
              "    (() => {\n",
              "      let quickchartButtonEl =\n",
              "        document.querySelector('#df-8b8d26c5-25ab-4178-bd76-441cdc4b3750 button');\n",
              "      quickchartButtonEl.style.display =\n",
              "        google.colab.kernel.accessAllowed ? 'block' : 'none';\n",
              "    })();\n",
              "  </script>\n",
              "</div>\n",
              "\n",
              "    </div>\n",
              "  </div>\n"
            ],
            "text/plain": [
              "  class_name       tempo  chroma_stft      rmse  spectral_centroid  \\\n",
              "0      blues  103.359375     0.380260  0.248262        2116.942959   \n",
              "1      blues   95.703125     0.306451  0.113475        1156.070496   \n",
              "2      blues  151.999081     0.253487  0.151571        1331.073970   \n",
              "3      blues  184.570312     0.269320  0.119072        1361.045467   \n",
              "4      blues  161.499023     0.391059  0.137728        1811.076084   \n",
              "\n",
              "   spectral_bandwidth      rolloff  zero_crossing_rate       mfcc1  \\\n",
              "0         1956.611056  4196.107960            0.127272  -26.929785   \n",
              "1         1497.668176  2170.053545            0.058613 -233.860772   \n",
              "2         1973.643437  2900.174130            0.042967 -221.802549   \n",
              "3         1567.804596  2739.625101            0.069124 -207.208080   \n",
              "4         2052.332563  3927.809582            0.075480 -145.434568   \n",
              "\n",
              "        mfcc2  ...     mfcc12     mfcc13    mfcc14    mfcc15    mfcc16  \\\n",
              "0  107.334008  ...  14.336612 -13.821769  7.562789 -6.181372  0.330165   \n",
              "1  136.170239  ...  -2.250578   3.959198  5.322555  0.812028 -1.107202   \n",
              "2  110.843070  ... -13.037723 -12.652228 -1.821905 -7.260097 -6.660252   \n",
              "3  132.799175  ...  -0.613248   0.384877  2.605128 -5.188924 -9.527455   \n",
              "4  102.829023  ...   7.457218 -10.470444 -2.360483 -6.783624  2.671134   \n",
              "\n",
              "      mfcc17     mfcc18     mfcc19     mfcc20  label  \n",
              "0  -6.829571   0.965922  -7.570825   2.918987  blues  \n",
              "1  -4.556555  -2.436490   3.316913  -0.608485  blues  \n",
              "2 -14.682694 -11.719264 -11.025216 -13.387260  blues  \n",
              "3  -9.244394  -2.848274  -1.418707  -5.932607  blues  \n",
              "4  -4.760879  -0.949005   0.024832  -2.005315  blues  \n",
              "\n",
              "[5 rows x 29 columns]"
            ]
          },
          "execution_count": 22,
          "metadata": {},
          "output_type": "execute_result"
        }
      ],
      "source": [
        "\n",
        "# Importing dataset\n",
        "df = pd.read_csv('MGC_data1.csv')\n",
        "df.head()"
      ]
    },
    {
      "cell_type": "code",
      "execution_count": null,
      "metadata": {
        "colab": {
          "base_uri": "https://localhost:8080/"
        },
        "id": "ll-rK1lcDNd_",
        "outputId": "938014b8-dbc1-4d59-9153-fe8c3bf0913f"
      },
      "outputs": [
        {
          "name": "stdout",
          "output_type": "stream",
          "text": [
            "['blues' 'classical' 'country' 'disco' 'hiphop' 'jazz' 'metal' 'pop'\n",
            " 'reggae' 'rock']\n"
          ]
        }
      ],
      "source": [
        "# Preprocesing\n",
        "print(df['class_name'].unique())\n",
        "df['class_name'] = df['class_name'].astype('category')\n",
        "df['class_label'] = df['class_name'].cat.codes"
      ]
    },
    {
      "cell_type": "code",
      "execution_count": null,
      "metadata": {
        "colab": {
          "base_uri": "https://localhost:8080/"
        },
        "id": "Tvv661VCDRzd",
        "outputId": "776e3713-4883-46d1-88c5-41baff3f6ffb"
      },
      "outputs": [
        {
          "data": {
            "text/plain": [
              "{0: 'blues',\n",
              " 1: 'classical',\n",
              " 2: 'country',\n",
              " 3: 'disco',\n",
              " 4: 'hiphop',\n",
              " 5: 'jazz',\n",
              " 6: 'metal',\n",
              " 7: 'pop',\n",
              " 8: 'reggae',\n",
              " 9: 'rock'}"
            ]
          },
          "execution_count": 24,
          "metadata": {},
          "output_type": "execute_result"
        }
      ],
      "source": [
        "lookup_genre_name = dict(zip(df.class_label.unique(), df.class_name.unique()))\n",
        "lookup_genre_name"
      ]
    },
    {
      "cell_type": "code",
      "execution_count": null,
      "metadata": {
        "colab": {
          "base_uri": "https://localhost:8080/"
        },
        "id": "75gmPiYfDVTm",
        "outputId": "dbf4f669-769a-470e-a32a-440378db4a20"
      },
      "outputs": [
        {
          "name": "stdout",
          "output_type": "stream",
          "text": [
            "          tempo  chroma_stft      rmse  spectral_centroid  spectral_bandwidth  \\\n",
            "0    103.359375     0.380260  0.248262        2116.942959         1956.611056   \n",
            "1     95.703125     0.306451  0.113475        1156.070496         1497.668176   \n",
            "2    151.999081     0.253487  0.151571        1331.073970         1973.643437   \n",
            "3    184.570312     0.269320  0.119072        1361.045467         1567.804596   \n",
            "4    161.499023     0.391059  0.137728        1811.076084         2052.332563   \n",
            "..          ...          ...       ...                ...                 ...   \n",
            "995  123.046875     0.418812  0.166056        2312.030070         2060.825761   \n",
            "996  117.453835     0.335774  0.093676        2553.856706         2219.090892   \n",
            "997  103.359375     0.372834  0.208743        1345.850763         1841.748033   \n",
            "998  112.347147     0.344472  0.180163        1675.475369         1653.422860   \n",
            "999   75.999540     0.360098  0.042995        2209.357588         2175.214294   \n",
            "\n",
            "         rolloff  zero_crossing_rate       mfcc1       mfcc2      mfcc3  ...  \\\n",
            "0    4196.107960            0.127272  -26.929785  107.334008 -46.809993  ...   \n",
            "1    2170.053545            0.058613 -233.860772  136.170239   3.289490  ...   \n",
            "2    2900.174130            0.042967 -221.802549  110.843070  18.620984  ...   \n",
            "3    2739.625101            0.069124 -207.208080  132.799175 -15.438986  ...   \n",
            "4    3927.809582            0.075480 -145.434568  102.829023 -12.517677  ...   \n",
            "..           ...                 ...         ...         ...        ...  ...   \n",
            "995  4528.197619            0.140588  -41.402023  105.403012 -43.945538  ...   \n",
            "996  5123.752351            0.136173 -121.410791   89.522283 -33.497073  ...   \n",
            "997  2939.265560            0.041099 -127.946876  134.443879   1.027332  ...   \n",
            "998  3253.563659            0.087294  -98.356322  136.611573 -46.700574  ...   \n",
            "999  4575.588999            0.107147 -245.160921   95.089813 -21.228014  ...   \n",
            "\n",
            "        mfcc11     mfcc12     mfcc13    mfcc14    mfcc15    mfcc16     mfcc17  \\\n",
            "0   -15.234050  14.336612 -13.821769  7.562789 -6.181372  0.330165  -6.829571   \n",
            "1     5.145258  -2.250578   3.959198  5.322555  0.812028 -1.107202  -4.556555   \n",
            "2   -26.406674 -13.037723 -12.652228 -1.821905 -7.260097 -6.660252 -14.682694   \n",
            "3    -2.452068  -0.613248   0.384877  2.605128 -5.188924 -9.527455  -9.244394   \n",
            "4    -6.934599   7.457218 -10.470444 -2.360483 -6.783624  2.671134  -4.760879   \n",
            "..         ...        ...        ...       ...       ...       ...        ...   \n",
            "995 -15.174259  11.303100 -14.155566  2.824157 -9.477822  3.331261  -8.200088   \n",
            "996 -16.957086   9.149520 -10.112054  4.211237 -9.349345  1.609701 -10.553566   \n",
            "997  -6.700004  11.043714  -8.385375  2.111019 -6.338260  0.997383  -5.325869   \n",
            "998 -12.647550   2.945863 -12.509212  0.091337 -0.774780 -5.700102  -8.630916   \n",
            "999  -9.282356   0.813777 -13.018360  0.053168 -8.232851  1.059255  -8.031864   \n",
            "\n",
            "        mfcc18     mfcc19     mfcc20  \n",
            "0     0.965922  -7.570825   2.918987  \n",
            "1    -2.436490   3.316913  -0.608485  \n",
            "2   -11.719264 -11.025216 -13.387260  \n",
            "3    -2.848274  -1.418707  -5.932607  \n",
            "4    -0.949005   0.024832  -2.005315  \n",
            "..         ...        ...        ...  \n",
            "995   3.693091  -3.673562  -0.163201  \n",
            "996   1.066489  -1.654875   7.544224  \n",
            "997  -0.842192  -4.665996  -4.787677  \n",
            "998  -1.903803  -2.196753  -3.395148  \n",
            "999  -0.397097  -4.349921  -4.220998  \n",
            "\n",
            "[1000 rows x 27 columns]\n"
          ]
        }
      ],
      "source": [
        "#Displaying Feature Dataset\n",
        "cols = list(df.columns)\n",
        "cols.remove('label')\n",
        "cols.remove('class_label')\n",
        "cols.remove('class_name')\n",
        "print(df[cols])"
      ]
    },
    {
      "cell_type": "code",
      "execution_count": null,
      "metadata": {
        "id": "n8za4yFVDZnd"
      },
      "outputs": [],
      "source": [
        "# Data splitting for Training and Testing\n",
        "%matplotlib notebook\n",
        "from sklearn.model_selection import train_test_split\n",
        "import matplotlib.pyplot as plt\n",
        "X = df.iloc[:,1:28]\n",
        "y = df['class_label']\n",
        "X_train, X_test, y_train, y_test = train_test_split(X, y, random_state=3)"
      ]
    },
    {
      "cell_type": "code",
      "execution_count": null,
      "metadata": {
        "id": "dhdkJ1m4Dbm8"
      },
      "outputs": [],
      "source": [
        "# Min-Max Normalisation\n",
        "from sklearn.preprocessing import MinMaxScaler\n",
        "scaler = MinMaxScaler()\n",
        "X_train_scaled = scaler.fit_transform(X_train)\n",
        "X_test_scaled = scaler.transform(X_test)"
      ]
    },
    {
      "cell_type": "code",
      "execution_count": null,
      "metadata": {
        "colab": {
          "base_uri": "https://localhost:8080/"
        },
        "id": "gqrQ3XfaDeXP",
        "outputId": "ea882d38-f672-4654-a4bc-19402d902baf"
      },
      "outputs": [
        {
          "data": {
            "text/plain": [
              "0.624"
            ]
          },
          "execution_count": 28,
          "metadata": {},
          "output_type": "execute_result"
        }
      ],
      "source": [
        "# Model fitting using KNN\n",
        "from sklearn.neighbors import KNeighborsClassifier\n",
        "knn = KNeighborsClassifier(n_neighbors = 13)\n",
        "\n",
        "knn.fit(X_train_scaled, y_train)\n",
        "\n",
        "print(\"KNN Score: \",knn.score(X_test_scaled, y_test))"
      ]
    },
    {
      "cell_type": "code",
      "execution_count": null,
      "metadata": {
        "colab": {
          "base_uri": "https://localhost:8080/"
        },
        "id": "SHOjqJcnDglR",
        "outputId": "4bda7a42-15df-4ba9-cac4-e214cc9e6cfe"
      },
      "outputs": [
        {
          "name": "stdout",
          "output_type": "stream",
          "text": [
            "Gener of this song is : classical\n"
          ]
        }
      ],
      "source": [
        "a = getmetadata(\"Sample.wav\")\n",
        "\n",
        "# Prediction\n",
        "d1 =np.array(a)\n",
        "data1 = scaler.transform([d1])\n",
        "genre_prediction = knn.predict(data1)\n",
        "print(\"Gener of this song is :\",lookup_genre_name[genre_prediction[0]])"
      ]
    },
    {
      "cell_type": "code",
      "execution_count": null,
      "metadata": {
        "colab": {
          "base_uri": "https://localhost:8080/"
        },
        "id": "PkM1pBC3GhwM",
        "outputId": "f08663f7-4761-405d-a9c5-e86b1c55695a"
      },
      "outputs": [
        {
          "name": "stdout",
          "output_type": "stream",
          "text": [
            "Gener of this song is : jazz\n"
          ]
        }
      ],
      "source": [
        "a = getmetadata(\"Sample2.wav\")\n",
        "\n",
        "# Prediction\n",
        "d1 =np.array(a)\n",
        "data1 = scaler.transform([d1])\n",
        "genre_prediction = knn.predict(data1)\n",
        "print(\"Gener of this song is :\",lookup_genre_name[genre_prediction[0]])"
      ]
    },
    {
      "cell_type": "code",
      "execution_count": null,
      "metadata": {
        "colab": {
          "base_uri": "https://localhost:8080/"
        },
        "id": "bPQaBobFGj5e",
        "outputId": "292f070f-44b1-49c5-908d-87ee08b5ec8a"
      },
      "outputs": [
        {
          "name": "stdout",
          "output_type": "stream",
          "text": [
            "Gener of this song is : disco\n"
          ]
        }
      ],
      "source": [
        "a = getmetadata(\"Sample3.wav\")\n",
        "\n",
        "# Prediction\n",
        "d1 =np.array(a)\n",
        "data1 = scaler.transform([d1])\n",
        "genre_prediction = knn.predict(data1)\n",
        "print(\"Gener of this song is :\",lookup_genre_name[genre_prediction[0]])"
      ]
    },
    {
      "cell_type": "code",
      "execution_count": null,
      "metadata": {
        "colab": {
          "base_uri": "https://localhost:8080/"
        },
        "id": "VF_3uOMkGkhb",
        "outputId": "3e7b4025-8648-4ab7-ac10-fc2476ff7801"
      },
      "outputs": [
        {
          "name": "stdout",
          "output_type": "stream",
          "text": [
            "Gener of this song is : pop\n"
          ]
        }
      ],
      "source": [
        "a = getmetadata(\"Sample4.wav\")\n",
        "\n",
        "# Prediction\n",
        "d1 =np.array(a)\n",
        "data1 = scaler.transform([d1])\n",
        "genre_prediction = knn.predict(data1)\n",
        "print(\"Gener of this song is :\",lookup_genre_name[genre_prediction[0]])"
      ]
    }
  ],
  "metadata": {
    "colab": {
      "provenance": []
    },
    "kernelspec": {
      "display_name": "Python 3",
      "name": "python3"
    },
    "language_info": {
      "name": "python"
    }
  },
  "nbformat": 4,
  "nbformat_minor": 0
}
